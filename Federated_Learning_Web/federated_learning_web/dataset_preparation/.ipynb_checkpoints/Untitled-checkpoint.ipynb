{
 "cells": [
  {
   "cell_type": "code",
   "execution_count": 1,
   "id": "ad50dbcb-c3ea-449f-9170-11f03e34e6b2",
   "metadata": {},
   "outputs": [],
   "source": [
    "import numpy as np"
   ]
  },
  {
   "cell_type": "code",
   "execution_count": 3,
   "id": "25b94d10-5ddd-401b-a6a2-b4809a7d10d7",
   "metadata": {},
   "outputs": [],
   "source": [
    "X_train = np.load('X_train.npy')\n",
    "Y_train = np.load('Y_train.npy')"
   ]
  },
  {
   "cell_type": "code",
   "execution_count": 4,
   "id": "8e54f106-f5da-4203-a333-11e1d610a6be",
   "metadata": {},
   "outputs": [
    {
     "data": {
      "text/plain": [
       "(54, 6)"
      ]
     },
     "execution_count": 4,
     "metadata": {},
     "output_type": "execute_result"
    }
   ],
   "source": [
    "X_train.shape"
   ]
  },
  {
   "cell_type": "code",
   "execution_count": 5,
   "id": "97c4443a-5ea3-4e91-be56-1de9b3e37d3b",
   "metadata": {},
   "outputs": [
    {
     "data": {
      "text/plain": [
       "(213,)"
      ]
     },
     "execution_count": 5,
     "metadata": {},
     "output_type": "execute_result"
    }
   ],
   "source": [
    "Y_train.shape"
   ]
  },
  {
   "cell_type": "code",
   "execution_count": 8,
   "id": "437505ab-1350-4c7d-bd0e-370311ce7f6c",
   "metadata": {},
   "outputs": [
    {
     "name": "stdout",
     "output_type": "stream",
     "text": [
      "Test Set Evaluation:\n",
      "Mean Squared Error: 45639893.214507\n",
      "R^2 Score: 0.7772810040371159\n",
      "Global Test Set Evaluation:\n",
      "Mean Squared Error: 34652329.32977147\n",
      "R^2 Score: 0.7767947667153231\n",
      "Model Coefficients:\n",
      "[3533.74424222 -510.48787828 1403.03209432  327.08178718 8770.19406046\n",
      "   29.85071784]\n"
     ]
    }
   ],
   "source": [
    "import pandas as pd\n",
    "import numpy as np\n",
    "from sklearn.linear_model import LinearRegression\n",
    "from sklearn.metrics import mean_squared_error, r2_score\n",
    "from sklearn.preprocessing import StandardScaler\n",
    "\n",
    "# Load data\n",
    "# Assuming data is in pandas DataFrames or NumPy arrays\n",
    "# X_train, Y_train, X_test, Y_test, X_test_global, Y_test_global should be defined already\n",
    "# Load data from .npy files\n",
    "X_train = np.load('X_train.npy')\n",
    "Y_train = np.load('Y_train.npy')\n",
    "X_test = np.load('X_test.npy')\n",
    "Y_test = np.load('Y_test.npy')\n",
    "X_test_global = np.load('X_test_global.npy')\n",
    "Y_test_global = np.load('Y_test_global.npy')\n",
    "\n",
    "# Optional: Scale features if needed\n",
    "scaler = StandardScaler()\n",
    "X_train_scaled = scaler.fit_transform(X_train)\n",
    "X_test_scaled = scaler.transform(X_test)\n",
    "X_test_global_scaled = scaler.transform(X_test_global)\n",
    "\n",
    "# Initialize and train the model\n",
    "model = LinearRegression()\n",
    "model.fit(X_train_scaled, Y_train)\n",
    "\n",
    "# Predict on test set\n",
    "Y_pred = model.predict(X_test_scaled)\n",
    "Y_pred_global = model.predict(X_test_global_scaled)\n",
    "\n",
    "# Evaluate the model\n",
    "print(\"Test Set Evaluation:\")\n",
    "print(f\"Mean Squared Error: {mean_squared_error(Y_test, Y_pred)}\")\n",
    "print(f\"R^2 Score: {r2_score(Y_test, Y_pred)}\")\n",
    "\n",
    "print(\"Global Test Set Evaluation:\")\n",
    "print(f\"Mean Squared Error: {mean_squared_error(Y_test_global, Y_pred_global)}\")\n",
    "print(f\"R^2 Score: {r2_score(Y_test_global, Y_pred_global)}\")\n",
    "\n",
    "# Optional: Inspect coefficients\n",
    "print(\"Model Coefficients:\")\n",
    "print(model.coef_)\n"
   ]
  },
  {
   "cell_type": "code",
   "execution_count": null,
   "id": "4c63debd-14e4-4b5e-837f-5a222ee197d2",
   "metadata": {},
   "outputs": [],
   "source": []
  }
 ],
 "metadata": {
  "kernelspec": {
   "display_name": "Python 3 (ipykernel)",
   "language": "python",
   "name": "python3"
  },
  "language_info": {
   "codemirror_mode": {
    "name": "ipython",
    "version": 3
   },
   "file_extension": ".py",
   "mimetype": "text/x-python",
   "name": "python",
   "nbconvert_exporter": "python",
   "pygments_lexer": "ipython3",
   "version": "3.11.7"
  }
 },
 "nbformat": 4,
 "nbformat_minor": 5
}
